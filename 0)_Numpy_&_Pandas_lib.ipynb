{
  "nbformat": 4,
  "nbformat_minor": 0,
  "metadata": {
    "colab": {
      "name": "0) Numpy & Pandas lib.ipynb",
      "provenance": [],
      "include_colab_link": true
    },
    "kernelspec": {
      "name": "python3",
      "display_name": "Python 3"
    }
  },
  "cells": [
    {
      "cell_type": "markdown",
      "metadata": {
        "id": "view-in-github",
        "colab_type": "text"
      },
      "source": [
        "<a href=\"https://colab.research.google.com/github/DevChorong/Supervised-Learning/blob/master/0)_Numpy_%26_Pandas_lib.ipynb\" target=\"_parent\"><img src=\"https://colab.research.google.com/assets/colab-badge.svg\" alt=\"Open In Colab\"/></a>"
      ]
    },
    {
      "cell_type": "markdown",
      "metadata": {
        "id": "4_j3_z7rr6zF",
        "colab_type": "text"
      },
      "source": [
        "# 0. Data-Processing Libraries\n",
        "******\n",
        "## 0-1. Numpy\n",
        "### # What is Numpy?\n",
        "- for Processing the Data by the array\n",
        "\n",
        "\n",
        "### 1. Call the Numpy"
      ]
    },
    {
      "cell_type": "code",
      "metadata": {
        "id": "XTJpj6ovs3-w",
        "colab_type": "code",
        "colab": {}
      },
      "source": [
        "import numpy as np # import Numpy before use"
      ],
      "execution_count": 0,
      "outputs": []
    },
    {
      "cell_type": "markdown",
      "metadata": {
        "id": "6Nm6mtWgs9EY",
        "colab_type": "text"
      },
      "source": [
        "### 2. Define Array and Use Numpy"
      ]
    },
    {
      "cell_type": "code",
      "metadata": {
        "id": "P6BSTWMftEzU",
        "colab_type": "code",
        "outputId": "daab4ea3-9e83-449a-cd8f-dbdae5bb90af",
        "colab": {
          "base_uri": "https://localhost:8080/",
          "height": 53
        }
      },
      "source": [
        "import numpy as np\n",
        "\n",
        "data1 = [1,2,3,4,5] # define 'Data' - list\n",
        "print(data1)\n",
        "\n",
        "print(type(data1)) # check it is list"
      ],
      "execution_count": 0,
      "outputs": [
        {
          "output_type": "stream",
          "text": [
            "[1, 2, 3, 4, 5]\n",
            "<class 'list'>\n"
          ],
          "name": "stdout"
        }
      ]
    },
    {
      "cell_type": "code",
      "metadata": {
        "id": "A65lPWGltKDW",
        "colab_type": "code",
        "outputId": "79591495-9e16-4c75-8471-ad65c0768faf",
        "colab": {
          "base_uri": "https://localhost:8080/",
          "height": 53
        }
      },
      "source": [
        "import numpy as np\n",
        "\n",
        "data2 = [6,7,8,9,10,11,12] # define 'Data' - list\n",
        "print(data2)\n",
        "\n",
        "print(type(data2)) # check it is list"
      ],
      "execution_count": 0,
      "outputs": [
        {
          "output_type": "stream",
          "text": [
            "[6, 7, 8, 9, 10, 11, 12]\n",
            "<class 'list'>\n"
          ],
          "name": "stdout"
        }
      ]
    },
    {
      "cell_type": "markdown",
      "metadata": {
        "id": "dLNz62W6uAkY",
        "colab_type": "text"
      },
      "source": [
        "###<mark> # Important!</mark>\n",
        "before we starting use Numpy\n",
        "we must define 'list' to 'Numpy Array'<br>\n",
        "'Numpy Array' is a new type that belong to Numpy lib"
      ]
    },
    {
      "cell_type": "code",
      "metadata": {
        "id": "qCyt-JEJtW4-",
        "colab_type": "code",
        "outputId": "8fd83d7f-7093-48f3-89d4-9ff593fdde96",
        "colab": {
          "base_uri": "https://localhost:8080/",
          "height": 89
        }
      },
      "source": [
        "import numpy as np\n",
        "\n",
        "data1 = [1,2,3,4,5]\n",
        "data2 = [6,7,8,9,10,11,12]\n",
        "\n",
        "array1 = np.array(data1) # define 'Array' - numpy.ndarray\n",
        "print(array1)\n",
        "\n",
        "print(type(array1))  # check it is 'numpy array'\n",
        "print(array1.dtype) # check it's Data Type\n",
        "print(array1.shape) # check shape of this Array"
      ],
      "execution_count": 0,
      "outputs": [
        {
          "output_type": "stream",
          "text": [
            "[1 2 3 4 5]\n",
            "<class 'numpy.ndarray'>\n",
            "int64\n",
            "(5,)\n"
          ],
          "name": "stdout"
        }
      ]
    },
    {
      "cell_type": "markdown",
      "metadata": {
        "id": "JO5hj22IwMPx",
        "colab_type": "text"
      },
      "source": [
        "### # (1)Command that Define Array\n",
        "> 1. <marK>newValue = np.array(list-Value)</mark>\n",
        "\n",
        "### # (2)Command that check about Array\n",
        "> 1. (array).dtype\n",
        "> 2. (array).shape\n",
        "\n",
        "\n",
        "### # Let's make 2 Dimention Array"
      ]
    },
    {
      "cell_type": "code",
      "metadata": {
        "id": "HquIu655w1wx",
        "colab_type": "code",
        "outputId": "40b875bb-3abb-4bd8-b44e-372498d5ca51",
        "colab": {
          "base_uri": "https://localhost:8080/",
          "height": 107
        }
      },
      "source": [
        "import numpy as np\n",
        "\n",
        "data = [[1,2,3], [4,5,6], [7,8,9]] # 2 Dimention list\n",
        "\n",
        "array_2d = np.array(data)\n",
        "print(array_2d)\n",
        "\n",
        "print()\n",
        "\n",
        "print(array_2d.shape)"
      ],
      "execution_count": 0,
      "outputs": [
        {
          "output_type": "stream",
          "text": [
            "[[1 2 3]\n",
            " [4 5 6]\n",
            " [7 8 9]]\n",
            "\n",
            "(3, 3)\n"
          ],
          "name": "stdout"
        }
      ]
    },
    {
      "cell_type": "markdown",
      "metadata": {
        "id": "YDkqN-_Px5rc",
        "colab_type": "text"
      },
      "source": [
        "### # (3) How to Masking\n",
        "Masking( Array Boolean Indexing ) is the Idea<br>\n",
        "that select the specific row or column what we want"
      ]
    },
    {
      "cell_type": "code",
      "metadata": {
        "id": "35panosbzqqH",
        "colab_type": "code",
        "outputId": "cea5e189-9dc9-4d07-a092-afce034dbcd0",
        "colab": {
          "base_uri": "https://localhost:8080/",
          "height": 323
        }
      },
      "source": [
        "import numpy as np\n",
        "\n",
        "# the masking Labels\n",
        "labels = np.array([0,1,2,1,2,0])\n",
        "\n",
        "# the Data \n",
        "data = np.array([['Row0-','A','B','C','D'],['Row1-','E','F','G','H'],['Row2-','I','J','K','L'],['Row3-','M','N','O','P'],['Row4-','Q','R','S','T'],['Row5-','U','V','W','X']])\n",
        "\n",
        "# make Mask\n",
        "label_Mask_0 = (labels == 0) # row0 , row5\n",
        "print(label_Mask_0)\n",
        "\n",
        "label_Mask_1 = (labels == 1) # row1, row 3\n",
        "print(label_Mask_1)\n",
        "\n",
        "label_Mask_2 = (labels == 2) # row2, row 4\n",
        "print(label_Mask_2)\n",
        "\n",
        "print()\n",
        "# select the Data with Masking\n",
        "\n",
        "print(data[label_Mask_0])\n",
        "print()\n",
        "\n",
        "\n",
        "print(data[label_Mask_1])\n",
        "print()\n",
        "\n",
        "\n",
        "print(data[label_Mask_2])\n",
        "print()\n",
        "\n",
        "# use it with Logical operator\n",
        "\n",
        "print(data[label_Mask_0 | label_Mask_2]) # row 0, 5 and row 2, 4\n",
        "\n"
      ],
      "execution_count": 0,
      "outputs": [
        {
          "output_type": "stream",
          "text": [
            "[ True False False False False  True]\n",
            "[False  True False  True False False]\n",
            "[False False  True False  True False]\n",
            "\n",
            "[['Row0-' 'A' 'B' 'C' 'D']\n",
            " ['Row5-' 'U' 'V' 'W' 'X']]\n",
            "\n",
            "[['Row1-' 'E' 'F' 'G' 'H']\n",
            " ['Row3-' 'M' 'N' 'O' 'P']]\n",
            "\n",
            "[['Row2-' 'I' 'J' 'K' 'L']\n",
            " ['Row4-' 'Q' 'R' 'S' 'T']]\n",
            "\n",
            "[['Row0-' 'A' 'B' 'C' 'D']\n",
            " ['Row2-' 'I' 'J' 'K' 'L']\n",
            " ['Row4-' 'Q' 'R' 'S' 'T']\n",
            " ['Row5-' 'U' 'V' 'W' 'X']]\n"
          ],
          "name": "stdout"
        }
      ]
    },
    {
      "cell_type": "markdown",
      "metadata": {
        "id": "AwR_p0ZQ2DMa",
        "colab_type": "text"
      },
      "source": [
        "******\n",
        "## 0-2. Pandas\n",
        "### # what is Pandas?\n",
        "Pandas deal with data type \"Series\" , \"Data Frame\"<br>\n",
        "we need to use Pandas with Numpy\n",
        "\n",
        "### 1. Call the Pandas ( & Numpy )\n"
      ]
    },
    {
      "cell_type": "code",
      "metadata": {
        "id": "73zoDzXv3NE2",
        "colab_type": "code",
        "colab": {}
      },
      "source": [
        "import pandas as pd\n",
        "import numpy as np"
      ],
      "execution_count": 0,
      "outputs": []
    },
    {
      "cell_type": "markdown",
      "metadata": {
        "id": "qtKji6ov3cV9",
        "colab_type": "text"
      },
      "source": [
        "### 2. Define Series and Use Pandas"
      ]
    },
    {
      "cell_type": "code",
      "metadata": {
        "id": "sTrGfWxI3iJ3",
        "colab_type": "code",
        "outputId": "2fbb2c35-7731-4569-e0e4-4b18ae6f8310",
        "colab": {
          "base_uri": "https://localhost:8080/",
          "height": 107
        }
      },
      "source": [
        "import pandas as pd\n",
        "import numpy as np\n",
        "\n",
        "obj = pd.Series([1,2,3,4])\n",
        "print(obj)"
      ],
      "execution_count": 0,
      "outputs": [
        {
          "output_type": "stream",
          "text": [
            "0    1\n",
            "1    2\n",
            "2    3\n",
            "3    4\n",
            "dtype: int64\n"
          ],
          "name": "stdout"
        }
      ]
    },
    {
      "cell_type": "markdown",
      "metadata": {
        "id": "fv9_w6sZ3q70",
        "colab_type": "text"
      },
      "source": [
        "### <mark># Important!</mark>\n",
        "when we define Series it's shape is looks like this<br>\n",
        "\n",
        "> [index Number] data0 <br>\n",
        "> [index Number] data1 <br>\n",
        "> ...<br>\n",
        "> dtype : ~\n",
        "\n",
        "so we can use the command like this\n",
        "> (Series).values<br>\n",
        "> (Series).index<br>\n",
        "> (Series).dtypes<br>\n"
      ]
    },
    {
      "cell_type": "code",
      "metadata": {
        "id": "r6hK8xUv4jAs",
        "colab_type": "code",
        "outputId": "458000cd-c157-48f7-f1cc-b120ebd6ce1f",
        "colab": {
          "base_uri": "https://localhost:8080/",
          "height": 197
        }
      },
      "source": [
        "import pandas as pd\n",
        "import numpy as np\n",
        "\n",
        "obj = pd.Series([1,2,3,4])\n",
        "print(obj.values)\n",
        "print(obj.index)\n",
        "print(obj.dtypes)\n",
        "print()\n",
        "\n",
        "# we can change index arbitrarily\n",
        "obj2 = pd.Series([5,6,7,8], index = ['one','two','three','four'])\n",
        "print(obj2)\n",
        "print(obj2.index)"
      ],
      "execution_count": 0,
      "outputs": [
        {
          "output_type": "stream",
          "text": [
            "[1 2 3 4]\n",
            "RangeIndex(start=0, stop=4, step=1)\n",
            "int64\n",
            "\n",
            "one      5\n",
            "two      6\n",
            "three    7\n",
            "four     8\n",
            "dtype: int64\n",
            "Index(['one', 'two', 'three', 'four'], dtype='object')\n"
          ],
          "name": "stdout"
        }
      ]
    },
    {
      "cell_type": "markdown",
      "metadata": {
        "id": "L2jWKcqA-2b3",
        "colab_type": "text"
      },
      "source": [
        "******\n",
        "### 3. Define DataFrame and use Pandas\n",
        "when define DataFrame we can use Data type<br>\n",
        "> Dictionary Type<br>\n",
        "> numpy Array Type"
      ]
    },
    {
      "cell_type": "code",
      "metadata": {
        "id": "N8-LU_PH_Ag0",
        "colab_type": "code",
        "colab": {
          "base_uri": "https://localhost:8080/",
          "height": 269
        },
        "outputId": "cb2a5791-683e-429c-d01d-757b85e2f85e"
      },
      "source": [
        "import numpy as np\n",
        "import pandas as pd\n",
        "\n",
        "data = {'name' : ['A','B','C','D','E'],'age' : [21, 19, 18, 22, 25], 'score' : [100, 94, 86, 98, 88] }\n",
        "\n",
        "print(type(data))\n",
        "\n",
        "df = pd.DataFrame(data)\n",
        "\n",
        "print(type(df))\n",
        "\n",
        "print()\n",
        "\n",
        "print(df.iloc[2]) ## Deal with a Low\n",
        "\n",
        "print()\n",
        "\n",
        "print(df['name']) ## Deal with a Column\n",
        "\n"
      ],
      "execution_count": 11,
      "outputs": [
        {
          "output_type": "stream",
          "text": [
            "<class 'dict'>\n",
            "<class 'pandas.core.frame.DataFrame'>\n",
            "\n",
            "name      C\n",
            "age      18\n",
            "score    86\n",
            "Name: 2, dtype: object\n",
            "\n",
            "0    A\n",
            "1    B\n",
            "2    C\n",
            "3    D\n",
            "4    E\n",
            "Name: name, dtype: object\n"
          ],
          "name": "stdout"
        }
      ]
    }
  ]
}