{
  "nbformat": 4,
  "nbformat_minor": 0,
  "metadata": {
    "colab": {
      "name": "3) Linear Model.ipynb",
      "provenance": [],
      "collapsed_sections": [],
      "include_colab_link": true
    },
    "kernelspec": {
      "name": "python3",
      "display_name": "Python 3"
    }
  },
  "cells": [
    {
      "cell_type": "markdown",
      "metadata": {
        "id": "view-in-github",
        "colab_type": "text"
      },
      "source": [
        "<a href=\"https://colab.research.google.com/github/DevChorong/Supervised-Learning/blob/master/3)_Linear_Model.ipynb\" target=\"_parent\"><img src=\"https://colab.research.google.com/assets/colab-badge.svg\" alt=\"Open In Colab\"/></a>"
      ]
    },
    {
      "cell_type": "markdown",
      "metadata": {
        "id": "oMhUBSMczTRI",
        "colab_type": "text"
      },
      "source": [
        "# 3. Linear Model\n",
        "******\n",
        "This Note is for 'Linear Model'\n",
        "\n",
        "we just Deal with basic level two sections\n",
        "\n",
        "> 1. Linear Regression\n",
        "> <br> 1. OLS Regression\n",
        "> <br> 2. Ridge Regression\n",
        ">\n",
        "> 2. Linear Classification\n",
        "\n",
        "## # 1. Linear Regression\n",
        "\n",
        "### 1.1 - OLS(Ordinary Least Squares) -\n",
        "\n",
        "what is Linear Regression\n",
        "\n",
        "it is defined by Realnumber in this time we also think about linear funcion\n",
        "\n",
        "### *y = ax + b*\n",
        "\n",
        "let's see the *x* and *y*\n",
        "\n",
        " - x is Data\n",
        " \n",
        " - y is label<br>\n",
        " \n",
        " \n",
        "<mark>in Linear Regression is based in Prediction</mark>\n",
        "\n",
        "how do we can predict??\n",
        "\n",
        "> 1. Collect the dataset\n",
        "> 2. put the point in the 2-Dimention map\n",
        "> 3. put the Machine in to the map\n",
        "> 4. machine follow the points and make line on the point\n",
        "> 5. it(line) will be trand\n",
        "\n",
        "let's do it!\n",
        "\n",
        "#### [ INDEX ]\n",
        "> 0. Prepare the Libraries\n",
        "> 1. call the Dataset\n",
        "> 2. make train, test data\n",
        "> 3. Learning the Linear Regression Model\n",
        "> 4. predict\n",
        "> 5. visualization\n",
        "\n",
        "### (0) prepare the library\n",
        "\n",
        " \n",
        " - before we start we install mglearn"
      ]
    },
    {
      "cell_type": "code",
      "metadata": {
        "id": "jSHjI0uig937",
        "colab_type": "code",
        "colab": {
          "base_uri": "https://localhost:8080/",
          "height": 485
        },
        "outputId": "f78ec0bf-306d-426e-8cdc-528cb5d06a7d"
      },
      "source": [
        "pip install mglearn"
      ],
      "execution_count": 2,
      "outputs": [
        {
          "output_type": "stream",
          "text": [
            "Collecting mglearn\n",
            "\u001b[?25l  Downloading https://files.pythonhosted.org/packages/fb/01/8d3630ecc767c9de96a9c46e055f2a3a5f9e14a47d3d0348a36a5005fe67/mglearn-0.1.7.tar.gz (540kB)\n",
            "\u001b[K     |████████████████████████████████| 542kB 2.8MB/s \n",
            "\u001b[?25hRequirement already satisfied: numpy in /usr/local/lib/python3.6/dist-packages (from mglearn) (1.16.5)\n",
            "Requirement already satisfied: matplotlib in /usr/local/lib/python3.6/dist-packages (from mglearn) (3.0.3)\n",
            "Requirement already satisfied: scikit-learn in /usr/local/lib/python3.6/dist-packages (from mglearn) (0.21.3)\n",
            "Requirement already satisfied: pandas in /usr/local/lib/python3.6/dist-packages (from mglearn) (0.24.2)\n",
            "Requirement already satisfied: pillow in /usr/local/lib/python3.6/dist-packages (from mglearn) (4.3.0)\n",
            "Requirement already satisfied: cycler in /usr/local/lib/python3.6/dist-packages (from mglearn) (0.10.0)\n",
            "Requirement already satisfied: imageio in /usr/local/lib/python3.6/dist-packages (from mglearn) (2.4.1)\n",
            "Requirement already satisfied: pyparsing!=2.0.4,!=2.1.2,!=2.1.6,>=2.0.1 in /usr/local/lib/python3.6/dist-packages (from matplotlib->mglearn) (2.4.2)\n",
            "Requirement already satisfied: kiwisolver>=1.0.1 in /usr/local/lib/python3.6/dist-packages (from matplotlib->mglearn) (1.1.0)\n",
            "Requirement already satisfied: python-dateutil>=2.1 in /usr/local/lib/python3.6/dist-packages (from matplotlib->mglearn) (2.5.3)\n",
            "Requirement already satisfied: scipy>=0.17.0 in /usr/local/lib/python3.6/dist-packages (from scikit-learn->mglearn) (1.3.1)\n",
            "Requirement already satisfied: joblib>=0.11 in /usr/local/lib/python3.6/dist-packages (from scikit-learn->mglearn) (0.13.2)\n",
            "Requirement already satisfied: pytz>=2011k in /usr/local/lib/python3.6/dist-packages (from pandas->mglearn) (2018.9)\n",
            "Requirement already satisfied: olefile in /usr/local/lib/python3.6/dist-packages (from pillow->mglearn) (0.46)\n",
            "Requirement already satisfied: six in /usr/local/lib/python3.6/dist-packages (from cycler->mglearn) (1.12.0)\n",
            "Requirement already satisfied: setuptools in /usr/local/lib/python3.6/dist-packages (from kiwisolver>=1.0.1->matplotlib->mglearn) (41.2.0)\n",
            "Building wheels for collected packages: mglearn\n",
            "  Building wheel for mglearn (setup.py) ... \u001b[?25l\u001b[?25hdone\n",
            "  Created wheel for mglearn: filename=mglearn-0.1.7-py2.py3-none-any.whl size=582705 sha256=03098373437cfde148e60266ac6c29ea942b2c6d88d9b59fa847cabc167b37fb\n",
            "  Stored in directory: /root/.cache/pip/wheels/74/cf/8d/04f4932d15854a36726c6210763c7127e62de28f5c8ddfcf3b\n",
            "Successfully built mglearn\n",
            "Installing collected packages: mglearn\n",
            "Successfully installed mglearn-0.1.7\n"
          ],
          "name": "stdout"
        }
      ]
    },
    {
      "cell_type": "markdown",
      "metadata": {
        "id": "QQFdaRcakDNl",
        "colab_type": "text"
      },
      "source": [
        "## [!] Linear-Regression Map looks like this!"
      ]
    },
    {
      "cell_type": "code",
      "metadata": {
        "id": "nCaNzRB0GYW6",
        "colab_type": "code",
        "outputId": "4b16f529-4bc4-4fc4-a3c5-56c0e8e86d14",
        "colab": {
          "base_uri": "https://localhost:8080/",
          "height": 465
        }
      },
      "source": [
        "\n",
        "import mglearn\n",
        "import matplotlib.pyplot as plt\n",
        "\n",
        "from sklearn.linear_model import LinearRegression\n",
        "from sklearn.model_selection import train_test_split\n",
        "mglearn.plots.plot_linear_regression_wave()\n"
      ],
      "execution_count": 21,
      "outputs": [
        {
          "output_type": "stream",
          "text": [
            "w[0]: 0.393906  b: -0.031804\n"
          ],
          "name": "stdout"
        },
        {
          "output_type": "display_data",
          "data": {
            "image/png": "[encoded data removed]",
            "text/plain": [
              "<Figure size 576x576 with 1 Axes>"
            ]
          },
          "metadata": {
            "tags": []
          }
        }
      ]
    },
    {
      "cell_type": "markdown",
      "metadata": {
        "id": "ToMsxsyVkZir",
        "colab_type": "text"
      },
      "source": [
        "### [1] call the Dataset"
      ]
    },
    {
      "cell_type": "code",
      "metadata": {
        "id": "N28UKq-jkoj9",
        "colab_type": "code",
        "colab": {}
      },
      "source": [
        "#==============[1]===============#\n",
        "# Let's call the Libs!\n",
        "\n",
        "# for datasets and visualization #\n",
        "import mglearn\n",
        "import matplotlib.pyplot as plt\n",
        "\n",
        "# for model #\n",
        "from sklearn.linear_model import LinearRegression\n",
        "from sklearn.model_selection import train_test_split"
      ],
      "execution_count": 0,
      "outputs": []
    },
    {
      "cell_type": "markdown",
      "metadata": {
        "id": "Y0HPTCYak3Kc",
        "colab_type": "text"
      },
      "source": [
        "#### [!] call the make_wave Dataset"
      ]
    },
    {
      "cell_type": "code",
      "metadata": {
        "id": "aTbAwoXsk2e4",
        "colab_type": "code",
        "colab": {}
      },
      "source": [
        "#==============[1]===============#\n",
        "import mglearn\n",
        "import matplotlib.pyplot as plt\n",
        "\n",
        "from sklearn.linear_model import LinearRegression\n",
        "from sklearn.model_selection import train_test_split\n",
        "\n",
        "X, y = mglearn.datasets.make_wave(n_samples = 100) # n_samples = how many sample we need"
      ],
      "execution_count": 0,
      "outputs": []
    },
    {
      "cell_type": "markdown",
      "metadata": {
        "id": "KYhjDb9plxq8",
        "colab_type": "text"
      },
      "source": [
        "### [2] make train, test data"
      ]
    },
    {
      "cell_type": "code",
      "metadata": {
        "id": "u5aA4r0kl4Q3",
        "colab_type": "code",
        "colab": {}
      },
      "source": [
        "#==============[1]===============#\n",
        "import mglearn\n",
        "import matplotlib.pyplot as plt\n",
        "\n",
        "from sklearn.linear_model import LinearRegression\n",
        "from sklearn.model_selection import train_test_split\n",
        "\n",
        "X, y = mglearn.datasets.make_wave(n_samples = 100)\n",
        "\n",
        "#==============[2]===============#\n",
        "x_train, x_test, y_train, y_test = train_test_split(X, y, random_state = 7)"
      ],
      "execution_count": 0,
      "outputs": []
    },
    {
      "cell_type": "markdown",
      "metadata": {
        "id": "agWz0K7gmAQj",
        "colab_type": "text"
      },
      "source": [
        "### [3] Learning the Linear Regression Model\n"
      ]
    },
    {
      "cell_type": "code",
      "metadata": {
        "id": "-N8Do---mFjB",
        "colab_type": "code",
        "colab": {}
      },
      "source": [
        "#==============[1]===============#\n",
        "import mglearn\n",
        "import matplotlib.pyplot as plt\n",
        "\n",
        "from sklearn.linear_model import LinearRegression\n",
        "from sklearn.model_selection import train_test_split\n",
        "\n",
        "X, y = mglearn.datasets.make_wave(n_samples = 100)\n",
        "\n",
        "#==============[2]===============#\n",
        "x_train, x_test, y_train, y_test = train_test_split(X, y, random_state = 7)\n",
        "\n",
        "#==============[3]===============#\n",
        "lr = LinearRegression().fit(x_train, y_train)"
      ],
      "execution_count": 0,
      "outputs": []
    },
    {
      "cell_type": "markdown",
      "metadata": {
        "id": "KA8JHAI8mMUj",
        "colab_type": "text"
      },
      "source": [
        "### [4] predict\n"
      ]
    },
    {
      "cell_type": "code",
      "metadata": {
        "id": "lqSdIrx-mLYu",
        "colab_type": "code",
        "colab": {}
      },
      "source": [
        "#==============[1]===============#\n",
        "import mglearn\n",
        "import matplotlib.pyplot as plt\n",
        "\n",
        "from sklearn.linear_model import LinearRegression\n",
        "from sklearn.model_selection import train_test_split\n",
        "\n",
        "X, y = mglearn.datasets.make_wave(n_samples = 100)\n",
        "\n",
        "#==============[2]===============#\n",
        "x_train, x_test, y_train, y_test = train_test_split(X, y, random_state = 7)\n",
        "\n",
        "#==============[3]===============#\n",
        "lr = LinearRegression().fit(x_train, y_train)\n",
        "\n",
        "#==============[4]===============#\n",
        "y_pred = lr.predict(x_test)"
      ],
      "execution_count": 0,
      "outputs": []
    },
    {
      "cell_type": "markdown",
      "metadata": {
        "id": "G-zClpPDmVRA",
        "colab_type": "text"
      },
      "source": [
        "### [5] visualization"
      ]
    },
    {
      "cell_type": "code",
      "metadata": {
        "id": "U9_oxosphU0a",
        "colab_type": "code",
        "colab": {
          "base_uri": "https://localhost:8080/",
          "height": 302
        },
        "outputId": "28c6751d-1ff2-41fe-e14f-44a5df95b52d"
      },
      "source": [
        "#==============[1]===============#\n",
        "import mglearn\n",
        "import matplotlib.pyplot as plt\n",
        "\n",
        "from sklearn.linear_model import LinearRegression\n",
        "from sklearn.model_selection import train_test_split\n",
        "\n",
        "X, y = mglearn.datasets.make_wave(n_samples = 100)\n",
        "\n",
        "#==============[2]===============#\n",
        "x_train, x_test, y_train, y_test = train_test_split(X, y, random_state = 7)\n",
        "\n",
        "#==============[3]===============#\n",
        "lr = LinearRegression().fit(x_train, y_train)\n",
        "\n",
        "#==============[4]===============#\n",
        "y_pred = lr.predict(x_test)\n",
        "\n",
        "#==============[5]===============#\n",
        "# Plot outputs\n",
        "plt.scatter(x_test, y_test,  color='black')\n",
        "plt.plot(x_test, y_pred, color='blue', linewidth=3)\n",
        "\n",
        "plt.xticks(())\n",
        "plt.yticks(())\n",
        "\n",
        "plt.xlabel(\"Features\")\n",
        "plt.ylabel(\"Label(Target)\")\n",
        "\n",
        "plt.show()\n",
        "\n",
        "# Score\n",
        "print(\"Train Score : {:0.2f}\".format(lr.score(x_train, y_train)))\n",
        "print(\"Test Score : {:0.2f}\".format(lr.score(x_test, y_test)))"
      ],
      "execution_count": 33,
      "outputs": [
        {
          "output_type": "display_data",
          "data": {
            "image/png": "[encoded data removed]",
            "text/plain": [
              "<Figure size 432x288 with 1 Axes>"
            ]
          },
          "metadata": {
            "tags": []
          }
        },
        {
          "output_type": "stream",
          "text": [
            "Train Score : 0.62\n",
            "Test Score : 0.63\n"
          ],
          "name": "stdout"
        }
      ]
    },
    {
      "cell_type": "markdown",
      "metadata": {
        "id": "hXQ2gYRUn58e",
        "colab_type": "text"
      },
      "source": [
        "### # result\n",
        "in this Data set the Train set's Score are similar as Test set's Score\n",
        "\n",
        "so we can call it \"Underfitting\" State\n",
        "\n",
        "than we must have change the model\n",
        "\n",
        "#### OLS regression -> Ridge regression\n",
        "\n",
        "let's talk about Ridege regression\n",
        "\n",
        "### 1.2 - Ridge Regression -"
      ]
    }
  ]
}