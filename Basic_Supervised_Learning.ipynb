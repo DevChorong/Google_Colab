{
  "nbformat": 4,
  "nbformat_minor": 0,
  "metadata": {
    "colab": {
      "name": "Basic-Supervised-Learning.ipynb",
      "version": "0.3.2",
      "provenance": [],
      "include_colab_link": true
    },
    "kernelspec": {
      "name": "python3",
      "display_name": "Python 3"
    }
  },
  "cells": [
    {
      "cell_type": "markdown",
      "metadata": {
        "id": "view-in-github",
        "colab_type": "text"
      },
      "source": [
        "<a href=\"https://colab.research.google.com/github/DevChorong/Supervised-Learning/blob/master/Basic_Supervised_Learning.ipynb\" target=\"_parent\"><img src=\"https://colab.research.google.com/assets/colab-badge.svg\" alt=\"Open In Colab\"/></a>"
      ]
    },
    {
      "cell_type": "code",
      "metadata": {
        "id": "9AUoTmSJllpc",
        "colab_type": "code",
        "colab": {}
      },
      "source": [
        ""
      ],
      "execution_count": 0,
      "outputs": []
    },
    {
      "cell_type": "markdown",
      "metadata": {
        "id": "dapaYZwilpuO",
        "colab_type": "text"
      },
      "source": [
        "# Basic Supervised Learning\n",
        "******\n",
        "This Note is for 'Basic Level Supervised Learning'\n",
        "\n",
        "we just know about the grammer that some of scikit-learn that include about Decision-Tree\n",
        "\n",
        "## [1] Decision Tree \n",
        "\n",
        "### # INDEX\n",
        "> 1. call Scikit-learn\n",
        "> 2. make some Training Dataset / Test Dataset\n",
        "> 3. gatering **Features** and **Labels**\n",
        "> 4. \n"
      ]
    }
  ]
}