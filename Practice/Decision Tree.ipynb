{
 "cells": [
  {
   "cell_type": "code",
   "execution_count": 22,
   "metadata": {},
   "outputs": [
    {
     "name": "stderr",
     "output_type": "stream",
     "text": [
      "C:\\Users\\ChoRong\\Anaconda3\\lib\\site-packages\\ipykernel_launcher.py:26: FutureWarning: Method .as_matrix will be removed in a future version. Use .values instead.\n"
     ]
    },
    {
     "name": "stdout",
     "output_type": "stream",
     "text": [
      "스코어는 0.44898이고 최적의 alpha값은 2입니다\n"
     ]
    }
   ],
   "source": [
    "# 1. Data 셋 불러오기 -> Class 가 9인 경우 예외처리\n",
    "# 2. Data 에서 Class 는 Label 로 Feature1 과 Feature2는 테스트 데이터로 만든다. [[[Feature1], [Feature2]],[[...]]]\n",
    "# 3. Leave One Out 기법을 사용하여 Cross Vaildation 한다.\n",
    "\n",
    "# - 사용할 기법 -\n",
    "# 1. Decision Tree\n",
    "# 2. KNN Algorithm\n",
    "# 3. SVM ( RBF Kernel, Polynomial Kernel )\n",
    "\n",
    "import pandas as pd\n",
    "import numpy as np\n",
    "from sklearn import tree\n",
    "from sklearn.model_selection import LeaveOneOut\n",
    "import matplotlib.pyplot as plt\n",
    "\n",
    "#__Data_PrePorcessing__#\n",
    "# Class 가 9인 것들은 예외처리 하였다.\n",
    "# Training Data = Feature들의 모임\n",
    "# Label = Class\n",
    "\n",
    "data = pd.read_excel('../HW1.xlsx')\n",
    "\n",
    "data = data[data.Class != 9] \n",
    "data = data.reset_index(drop=True)\n",
    "\n",
    "X = (data.loc[0:len(data),['Feature 1','Feature 2']]).as_matrix()\n",
    "\n",
    "y = data.Class \n",
    "\n",
    "#__Build_TrainingData_&_Lavels__#\n",
    "# Leave One Out 기법을 사용하여 검증 데이터를 만든다. #\n",
    "\n",
    "loo = LeaveOneOut()\n",
    "loo.get_n_splits(X)\n",
    "\n",
    "score_sum = 0\n",
    "\n",
    "# 최적의 DecisionTree Depth를 찾기위한 For문과 최고점수와 그때의 Alpha값 #\n",
    "highest_score = 0\n",
    "highest_alpha = 0\n",
    "\n",
    "for alpha in range(1,50):\n",
    "    for train_index, test_index in loo.split(X):\n",
    "        X_train, X_test = X[train_index], X[test_index]\n",
    "        y_train, y_test = y[train_index], y[test_index]\n",
    "        \n",
    "        #========[ Learning ]=========================#\n",
    "        features = X_train \n",
    "        labels = y_train \n",
    "\n",
    "        #========[ Model Module ]=====================#\n",
    "        clf = tree.DecisionTreeClassifier(max_depth = alpha)\n",
    "        clf = clf.fit(features, labels)\n",
    "        #=======[ Score Aggregation ]=================#\n",
    "        score_sum += clf.score(X_test, y_test)\n",
    "    \n",
    "    #======[ Score Check ]===========================#\n",
    "    mean = score_sum / len(data)\n",
    "    if(highest_score < mean):\n",
    "        highest_score = mean\n",
    "        highest_alpha = alpha\n",
    "    score_sum = 0\n",
    "    \n",
    "    \n",
    "#__Print__Score__#\n",
    "print(\"스코어는 {0:.6}이고 최적의 alpha값은 {1}입니다\".format(highest_score, highest_alpha))"
   ]
  }
 ],
 "metadata": {
  "kernelspec": {
   "display_name": "Python 3",
   "language": "python",
   "name": "python3"
  },
  "language_info": {
   "codemirror_mode": {
    "name": "ipython",
    "version": 3
   },
   "file_extension": ".py",
   "mimetype": "text/x-python",
   "name": "python",
   "nbconvert_exporter": "python",
   "pygments_lexer": "ipython3",
   "version": "3.7.1"
  }
 },
 "nbformat": 4,
 "nbformat_minor": 2
}
