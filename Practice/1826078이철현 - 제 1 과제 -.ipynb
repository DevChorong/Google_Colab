{
 "cells": [
  {
   "cell_type": "markdown",
   "metadata": {},
   "source": [
    "# HW-Dataset을 위한 최적의 지도학습 모델 찾기에 대한 실습 및 연구\n",
    "\n",
    "### 학번 : 1826078\n",
    "### 이름 : 이철현"
   ]
  },
  {
   "cell_type": "markdown",
   "metadata": {},
   "source": [
    "# # Data Preview / Visualization"
   ]
  },
  {
   "cell_type": "code",
   "execution_count": 3,
   "metadata": {},
   "outputs": [
    {
     "name": "stdout",
     "output_type": "stream",
     "text": [
      "Class 0 : 40\n",
      "Class 1 : 20\n",
      "Class 2 : 30\n",
      "Class 3 : 8\n"
     ]
    },
    {
     "data": {
      "image/png": "[encoded data removed]",
      "text/plain": [
       "<Figure size 432x288 with 1 Axes>"
      ]
     },
     "metadata": {
      "needs_background": "light"
     },
     "output_type": "display_data"
    }
   ],
   "source": [
    "import pandas as pd\n",
    "import numpy as np\n",
    "import matplotlib.pyplot as plt\n",
    "import numpy as np \n",
    "from sklearn.decomposition import PCA\n",
    "\n",
    "data = pd.read_excel('../HW1.xlsx')\n",
    "\n",
    "data = data[data.Class != 9] \n",
    "data = data.reset_index(drop=True)\n",
    "\n",
    "y0 = data[data.Class == 0]\n",
    "print(\"Class 0 : {0}\".format(len(y0)))\n",
    "y1 = data[data.Class == 1] \n",
    "print(\"Class 1 : {0}\".format(len(y1)))\n",
    "y2 = data[data.Class == 2] \n",
    "print(\"Class 2 : {0}\".format(len(y2)))\n",
    "y3 = data[data.Class == 3]\n",
    "print(\"Class 3 : {0}\".format(len(y3)))\n",
    "\n",
    "\n",
    "markers = ['o','x','^','>']\n",
    "sizes = [40,60,80,100]\n",
    "\n",
    "for dot, n in zip([y0, y1, y2, y3], range(4)):\n",
    "    x = dot['Feature 1']\n",
    "    y = dot['Feature 2']\n",
    "    plt.scatter(x, y, marker = markers[n], s= sizes[n])\n",
    "    \n",
    "plt.xlabel('Feature 1', fontsize = 14)\n",
    "plt.ylabel('Feature 2', fontsize = 14)\n",
    "plt.legend(['class 0', 'class 1', 'class 2', 'class 3'], loc='upper right')\n",
    "plt.show()\n"
   ]
  },
  {
   "cell_type": "markdown",
   "metadata": {},
   "source": [
    "# # Decision Tree"
   ]
  },
  {
   "cell_type": "code",
   "execution_count": 4,
   "metadata": {},
   "outputs": [
    {
     "name": "stdout",
     "output_type": "stream",
     "text": [
      "Requirement already up-to-date: imblearn in c:\\users\\chorong\\appdata\\roaming\\python\\python37\\site-packages (0.0)\n",
      "Requirement already satisfied, skipping upgrade: imbalanced-learn in c:\\users\\chorong\\appdata\\roaming\\python\\python37\\site-packages (from imblearn) (0.5.0)\n",
      "Requirement already satisfied, skipping upgrade: scipy>=0.17 in c:\\users\\chorong\\anaconda3\\lib\\site-packages (from imbalanced-learn->imblearn) (1.1.0)\n",
      "Requirement already satisfied, skipping upgrade: joblib>=0.11 in c:\\users\\chorong\\anaconda3\\lib\\site-packages (from imbalanced-learn->imblearn) (0.14.0)\n",
      "Requirement already satisfied, skipping upgrade: scikit-learn>=0.21 in c:\\users\\chorong\\anaconda3\\lib\\site-packages (from imbalanced-learn->imblearn) (0.21.3)\n",
      "Requirement already satisfied, skipping upgrade: numpy>=1.11 in c:\\users\\chorong\\anaconda3\\lib\\site-packages (from imbalanced-learn->imblearn) (1.15.4)\n"
     ]
    },
    {
     "name": "stderr",
     "output_type": "stream",
     "text": [
      "C:\\Users\\ChoRong\\Anaconda3\\lib\\site-packages\\ipykernel_launcher.py:32: FutureWarning: Method .as_matrix will be removed in a future version. Use .values instead.\n"
     ]
    },
    {
     "name": "stdout",
     "output_type": "stream",
     "text": [
      "Model : Decision Tree\n",
      "Max_depth : 17\n",
      "Score : 0.775\n"
     ]
    },
    {
     "data": {
      "image/png": "[encoded data removed]",
      "text/plain": [
       "<Figure size 432x288 with 1 Axes>"
      ]
     },
     "metadata": {
      "needs_background": "light"
     },
     "output_type": "display_data"
    }
   ],
   "source": [
    "# 1. Data 셋 불러오기 -> Class 가 9인 경우 예외처리\n",
    "# 2. Data 에서 Class 는 Label 로 Feature1 과 Feature2는 테스트 데이터로 만든다. [[[Feature1], [Feature2]],[[...]]]\n",
    "# 3. Leave One Out 기법을 사용하여 Cross Vaildation 한다.\n",
    "\n",
    "# - 사용할 기법 -\n",
    "# Decision Tree #\n",
    "\n",
    "import pandas as pd\n",
    "import numpy as np\n",
    "from sklearn import tree\n",
    "from sklearn.model_selection import LeaveOneOut\n",
    "import matplotlib.pyplot as plt\n",
    "\n",
    "!pip install -U imblearn\n",
    "from sklearn.decomposition import PCA\n",
    "from imblearn.over_sampling import *\n",
    "\n",
    "#__Data_PrePorcessing__#\n",
    "# Class 가 9인 것들은 예외처리 하였다.\n",
    "# Training Data = Feature들의 모임\n",
    "# Label = Class\n",
    "\n",
    "data = pd.read_excel('../HW1.xlsx')\n",
    "\n",
    "data = data[data.Class != 9] \n",
    "data = data.reset_index(drop=True)\n",
    "\n",
    "X = (data.loc[0:len(data),['Feature 1','Feature 2']]).as_matrix()\n",
    "y = data.Class \n",
    "\n",
    "# 데이터 불균형을 잡아줄 Random Over Sampler #\n",
    "X, y = RandomOverSampler(random_state=0).fit_sample(X, y)\n",
    "\n",
    "\n",
    "#__Build_TrainingData_&_Lavels__#\n",
    "# Leave One Out 기법을 사용하여 검증 데이터를 만든다. #\n",
    "\n",
    "loo = LeaveOneOut()\n",
    "loo.get_n_splits(X)\n",
    "\n",
    "\n",
    "# 최적의 DecisionTree Depth를 찾기위한 For문과 최고점수와 그때의 Alpha값 #\n",
    "highest_score = 0\n",
    "highest_alpha = 0\n",
    "\n",
    "score_sum = 0\n",
    "\n",
    "for alpha in range(1,20):\n",
    "    for train_index, test_index in loo.split(X):\n",
    "        X_train, X_test = X[train_index], X[test_index]\n",
    "        y_train, y_test = y[train_index], y[test_index]\n",
    "        \n",
    "        #========[ Learning ]=========================#\n",
    "        features = X_train \n",
    "        labels =  y_train \n",
    "\n",
    "        #========[ Model Module ]=====================#\n",
    "        clf = tree.DecisionTreeClassifier(max_depth = alpha)\n",
    "        clf = clf.fit(features, labels)\n",
    "        #=======[ Score Aggregation ]=================#\n",
    "        score_sum += clf.score(X_test, y_test)\n",
    "    #======[ Score Check ]===========================#\n",
    "    mean = score_sum / len(X)\n",
    "    if(highest_score < mean):\n",
    "        highest_score = mean\n",
    "        highest_alpha = alpha\n",
    "    score_sum = 0\n",
    "    plt.scatter(alpha, mean, c = 'orange')\n",
    "    \n",
    "#__Print__Score__#\n",
    "print(\"Model : Decision Tree\")\n",
    "print(\"Max_depth : {0}\".format(highest_alpha))\n",
    "print(\"Score : {0:.6}\".format(highest_score))\n",
    "plt.xlabel('Max Depth', fontsize = 14)\n",
    "plt.ylabel('Score', fontsize = 14)\n",
    "plt.show()\n",
    "\n",
    "\n",
    "# # KNN Algorithm ( Check )"
   ]
  },
  {
   "cell_type": "markdown",
   "metadata": {},
   "source": [
    "# # KNN Algorithm"
   ]
  },
  {
   "cell_type": "code",
   "execution_count": 8,
   "metadata": {},
   "outputs": [
    {
     "name": "stdout",
     "output_type": "stream",
     "text": [
      "Requirement already up-to-date: imblearn in c:\\users\\chorong\\appdata\\roaming\\python\\python37\\site-packages (0.0)\n",
      "Requirement already satisfied, skipping upgrade: imbalanced-learn in c:\\users\\chorong\\appdata\\roaming\\python\\python37\\site-packages (from imblearn) (0.5.0)\n",
      "Requirement already satisfied, skipping upgrade: scikit-learn>=0.21 in c:\\users\\chorong\\anaconda3\\lib\\site-packages (from imbalanced-learn->imblearn) (0.21.3)\n",
      "Requirement already satisfied, skipping upgrade: scipy>=0.17 in c:\\users\\chorong\\anaconda3\\lib\\site-packages (from imbalanced-learn->imblearn) (1.1.0)\n",
      "Requirement already satisfied, skipping upgrade: joblib>=0.11 in c:\\users\\chorong\\anaconda3\\lib\\site-packages (from imbalanced-learn->imblearn) (0.14.0)\n",
      "Requirement already satisfied, skipping upgrade: numpy>=1.11 in c:\\users\\chorong\\anaconda3\\lib\\site-packages (from imbalanced-learn->imblearn) (1.15.4)\n"
     ]
    },
    {
     "name": "stderr",
     "output_type": "stream",
     "text": [
      "C:\\Users\\ChoRong\\Anaconda3\\lib\\site-packages\\ipykernel_launcher.py:33: FutureWarning: Method .as_matrix will be removed in a future version. Use .values instead.\n"
     ]
    },
    {
     "name": "stdout",
     "output_type": "stream",
     "text": [
      "Model : KNN Algorithm\n",
      "K value : 1\n",
      "Score : 0.725\n"
     ]
    },
    {
     "data": {
      "image/png": "[encoded data removed]",
      "text/plain": [
       "<Figure size 432x288 with 1 Axes>"
      ]
     },
     "metadata": {
      "needs_background": "light"
     },
     "output_type": "display_data"
    }
   ],
   "source": [
    "\n",
    "# 1. Data 셋 불러오기 -> Class 가 9인 경우 예외처리\n",
    "# 2. Data 에서 Class 는 Label 로 Feature1 과 Feature2는 테스트 데이터로 만든다. [[[Feature1], [Feature2]],[[...]]]\n",
    "# 3. Leave One Out 기법을 사용하여 Cross Vaildation 한다.\n",
    "\n",
    "# - 사용할 기법 -\n",
    "# 1. Decision Tree\n",
    "# 2. KNN Algorithm\n",
    "# 3. SVM ( RBF Kernel, Polynomial Kernel )\n",
    "# 4. Random Forest\n",
    "# 5. Ada boost\n",
    "\n",
    "import pandas as pd\n",
    "import numpy as np\n",
    "from sklearn.neighbors import KNeighborsClassifier\n",
    "from sklearn.model_selection import LeaveOneOut\n",
    "import matplotlib.pyplot as plt\n",
    "\n",
    "!pip install -U imblearn\n",
    "from sklearn.decomposition import PCA\n",
    "from imblearn.over_sampling import *\n",
    "\n",
    "#__Data_PrePorcessing__#\n",
    "# Class 가 9인 것들은 예외처리 하였다.\n",
    "# Training Data = Feature들의 모임\n",
    "# Label = Class\n",
    "\n",
    "data = pd.read_excel('../HW1.xlsx')\n",
    "\n",
    "data = data[data.Class != 9] \n",
    "data = data.reset_index(drop=True)\n",
    "\n",
    "X = (data.loc[0:len(data),['Feature 1','Feature 2']]).as_matrix()\n",
    "y = data.Class \n",
    "\n",
    "# 데이터 불균형을 잡아줄 Random Over Sampler #\n",
    "X, y = RandomOverSampler(random_state=0).fit_sample(X, y)\n",
    "\n",
    "\n",
    "#__Build_TrainingData_&_Lavels__#\n",
    "# Leave One Out 기법을 사용하여 검증 데이터를 만든다. #\n",
    "\n",
    "loo = LeaveOneOut()\n",
    "loo.get_n_splits(X)\n",
    "\n",
    "\n",
    "# 최적의 DecisionTree Depth를 찾기위한 For문과 최고점수와 그때의 Alpha값 #\n",
    "highest_score = 0\n",
    "highest_alpha = 0\n",
    "\n",
    "score_sum = 0\n",
    "\n",
    "for alpha in range(1,51):\n",
    "    for train_index, test_index in loo.split(X):\n",
    "        X_train, X_test = X[train_index], X[test_index]\n",
    "        y_train, y_test = y[train_index], y[test_index]\n",
    "        \n",
    "        #========[ Learning ]=========================#\n",
    "        features = X_train \n",
    "        labels = y_train \n",
    "\n",
    "        #========[ Model Module ]=====================#\n",
    "        knn = KNeighborsClassifier(n_neighbors = alpha) \n",
    "        knn.fit(features, labels)\n",
    "        #=======[ Score Aggregation ]=================#\n",
    "        score_sum += knn.score(X_test, y_test)\n",
    "    \n",
    "    #======[ Score Check ]===========================#\n",
    "    mean = score_sum / len(X)\n",
    "    if(highest_score < mean):\n",
    "        highest_score = mean\n",
    "        highest_alpha = alpha\n",
    "    score_sum = 0\n",
    "    plt.scatter(alpha, mean, c = 'green')\n",
    "    \n",
    "#__Print__Score__#\n",
    "print(\"Model : KNN Algorithm\")\n",
    "print(\"K value : {0}\".format(highest_alpha))\n",
    "print(\"Score : {0:.6}\".format(highest_score))\n",
    "plt.xlabel('K value', fontsize = 14)\n",
    "plt.ylabel('Score', fontsize = 14)\n",
    "plt.show()"
   ]
  },
  {
   "cell_type": "markdown",
   "metadata": {},
   "source": [
    "# # SVM(RBF Kernel , Sigmoid Kernel)"
   ]
  },
  {
   "cell_type": "code",
   "execution_count": 2,
   "metadata": {
    "scrolled": false
   },
   "outputs": [
    {
     "name": "stdout",
     "output_type": "stream",
     "text": [
      "Requirement already up-to-date: imblearn in c:\\users\\chorong\\appdata\\roaming\\python\\python37\\site-packages (0.0)\n",
      "Requirement already satisfied, skipping upgrade: imbalanced-learn in c:\\users\\chorong\\appdata\\roaming\\python\\python37\\site-packages (from imblearn) (0.5.0)\n",
      "Requirement already satisfied, skipping upgrade: scikit-learn>=0.21 in c:\\users\\chorong\\anaconda3\\lib\\site-packages (from imbalanced-learn->imblearn) (0.21.3)\n",
      "Requirement already satisfied, skipping upgrade: scipy>=0.17 in c:\\users\\chorong\\anaconda3\\lib\\site-packages (from imbalanced-learn->imblearn) (1.1.0)\n",
      "Requirement already satisfied, skipping upgrade: joblib>=0.11 in c:\\users\\chorong\\anaconda3\\lib\\site-packages (from imbalanced-learn->imblearn) (0.14.0)\n",
      "Requirement already satisfied, skipping upgrade: numpy>=1.11 in c:\\users\\chorong\\anaconda3\\lib\\site-packages (from imbalanced-learn->imblearn) (1.15.4)\n"
     ]
    },
    {
     "name": "stderr",
     "output_type": "stream",
     "text": [
      "C:\\Users\\ChoRong\\Anaconda3\\lib\\site-packages\\ipykernel_launcher.py:32: FutureWarning: Method .as_matrix will be removed in a future version. Use .values instead.\n"
     ]
    },
    {
     "name": "stdout",
     "output_type": "stream",
     "text": [
      "=======================\n",
      "Model : SVM - RBF\n",
      "Gamma : 50\n",
      "C value : 1 \n",
      "Score : 0.84375\n",
      "=======================\n",
      "Model : SVM - Sigmoid\n",
      "Gamma : 0.0001\n",
      "C value : 100 \n",
      "Score : 0.325\n"
     ]
    },
    {
     "data": {
      "image/png": "[encoded data removed]",
      "text/plain": [
       "<Figure size 432x288 with 2 Axes>"
      ]
     },
     "metadata": {
      "needs_background": "light"
     },
     "output_type": "display_data"
    }
   ],
   "source": [
    "# 1. Data 셋 불러오기 -> Class 가 9인 경우 예외처리\n",
    "# 2. Data 에서 Class 는 Label 로 Feature1 과 Feature2는 테스트 데이터로 만든다. [[[Feature1], [Feature2]],[[...]]]\n",
    "# 3. Leave One Out 기법을 사용하여 Cross Vaildation 한다.\n",
    "\n",
    "# - 사용할 기법 -\n",
    "# 1. Decision Tree\n",
    "# 2. KNN Algorithm\n",
    "# 3. SVM ( RBF Kernel, Polynomial Kernel )\n",
    "# 4. Random Forest\n",
    "# 5. Ada boost\n",
    "\n",
    "import pandas as pd\n",
    "import numpy as np\n",
    "from sklearn.svm import SVC\n",
    "from sklearn.model_selection import LeaveOneOut\n",
    "import matplotlib.pyplot as plt\n",
    "\n",
    "!pip install -U imblearn\n",
    "from sklearn.decomposition import PCA\n",
    "from imblearn.over_sampling import *\n",
    "\n",
    "#__Data_PrePorcessing__#\n",
    "# Class 가 9인 것들은 예외처리 하였다.\n",
    "# Training Data = Feature들의 모임\n",
    "# Label = Class\n",
    "\n",
    "data = pd.read_excel('../HW1.xlsx')\n",
    "\n",
    "data = data[data.Class != 9] \n",
    "data = data.reset_index(drop=True)\n",
    "\n",
    "X = (data.loc[0:len(data),['Feature 1','Feature 2']]).as_matrix()\n",
    "y = data.Class \n",
    "\n",
    "# 데이터 불균형을 잡아줄 Random Over Sampler #\n",
    "X, y = RandomOverSampler(random_state=0).fit_sample(X, y)\n",
    "\n",
    "#__Build_TrainingData_&_Lavels__#\n",
    "# Leave One Out 기법을 사용하여 검증 데이터를 만든다. #\n",
    "\n",
    "loo = LeaveOneOut()\n",
    "loo.get_n_splits(X)\n",
    "\n",
    "# 최적의 DecisionTree Depth를 찾기위한 For문과 최고점수와 그때의 Alpha값 #\n",
    "\n",
    "highest_score_rbf = 0\n",
    "highest_alpha_rbf = 0\n",
    "highest_beta_rbf = 0\n",
    "\n",
    "highest_score_sigmoid = 0\n",
    "highest_alpha_sigmoid = 0\n",
    "highest_beta_sigmoid = 0\n",
    "\n",
    "score_sum_rbf = 0\n",
    "score_sum_sigmoid = 0\n",
    "\n",
    "fig = plt.figure()\n",
    "sub1 = fig.add_subplot(1,2,1)\n",
    "sub2 = fig.add_subplot(1,2,2)\n",
    "\n",
    "for alpha in [0.0001, 0.01, 0.1, 1, 5, 10, 25, 50, 100, 150]:\n",
    "    for beta in [0.001, 0.01, 0.1, 1, 10, 100]:\n",
    "        for train_index, test_index in loo.split(X):\n",
    "            X_train, X_test = X[train_index], X[test_index]\n",
    "            y_train, y_test = y[train_index], y[test_index]\n",
    "\n",
    "            #========[ Learning ]=========================#\n",
    "            features = X_train \n",
    "            labels = y_train \n",
    "\n",
    "            #========[ Model Module ]=====================#\n",
    "            svm_rbf = SVC(kernel='rbf', C=beta, gamma = alpha).fit(features, labels)\n",
    "            svm_sigmoid = SVC(kernel='sigmoid', C=beta, gamma = alpha).fit(features, labels)\n",
    "\n",
    "            #=======[ Score Aggregation ]=================#\n",
    "            score_sum_rbf += svm_rbf.score(X_test, y_test)\n",
    "            score_sum_sigmoid += svm_sigmoid.score(X_test, y_test)\n",
    "\n",
    "\n",
    "        #======[ Score Check ]===========================#\n",
    "        mean_rbf = score_sum_rbf / len(X)\n",
    "        if(highest_score_rbf < mean_rbf):\n",
    "            highest_score_rbf = mean_rbf\n",
    "            highest_alpha_rbf = alpha\n",
    "            highest_beta_rbf = beta\n",
    "\n",
    "        mean_sigmoid = score_sum_sigmoid / len(X)\n",
    "        if(highest_score_sigmoid < mean_sigmoid):\n",
    "            highest_score_sigmoid = mean_sigmoid\n",
    "            highest_alpha_sigmoid = alpha\n",
    "            highest_beta_sigmoid = beta\n",
    "\n",
    "        score_sum_rbf = 0\n",
    "        score_sum_sigmoid = 0\n",
    "        \n",
    "        sub2.scatter(beta, mean_rbf, marker = 's', c = 'red')\n",
    "        sub2.scatter(beta, mean_sigmoid, marker = '^', c = 'blue')\n",
    "        \n",
    "    sub1.scatter(alpha, mean_rbf, marker = 's', c = 'red')\n",
    "    sub1.scatter(alpha, mean_sigmoid, marker = '^', c = 'blue')\n",
    "    \n",
    "#__Print__Score__#\n",
    "print(\"=======================\")\n",
    "print(\"Model : SVM - RBF\")\n",
    "print(\"Gamma : {0}\".format(highest_alpha_rbf))\n",
    "print(\"C value : {0} \".format(highest_beta_rbf))\n",
    "print(\"Score : {0:.6}\".format(highest_score_rbf))\n",
    "\n",
    "print(\"=======================\")\n",
    "print(\"Model : SVM - Sigmoid\")\n",
    "print(\"Gamma : {0}\".format(highest_alpha_sigmoid))\n",
    "print(\"C value : {0} \".format(highest_beta_sigmoid))\n",
    "print(\"Score : {0:.6}\".format(highest_score_sigmoid))\n",
    "\n",
    "sub1.legend(['RBF','Sigmoid'], loc='upper right')\n",
    "sub1.set_xlabel('Gamma', fontsize = 14)\n",
    "sub1.set_ylabel('Score', fontsize = 14)\n",
    "\n",
    "sub2.legend(['RBF','Sigmoid'], loc='upper right')\n",
    "sub2.set_xlabel('C Value', fontsize = 14)\n",
    "\n",
    "plt.show()"
   ]
  },
  {
   "cell_type": "markdown",
   "metadata": {},
   "source": [
    "# # Logistic Regression"
   ]
  },
  {
   "cell_type": "code",
   "execution_count": 12,
   "metadata": {},
   "outputs": [
    {
     "name": "stdout",
     "output_type": "stream",
     "text": [
      "Requirement already up-to-date: imblearn in c:\\users\\chorong\\appdata\\roaming\\python\\python37\\site-packages (0.0)\n",
      "Requirement already satisfied, skipping upgrade: imbalanced-learn in c:\\users\\chorong\\appdata\\roaming\\python\\python37\\site-packages (from imblearn) (0.5.0)\n",
      "Requirement already satisfied, skipping upgrade: joblib>=0.11 in c:\\users\\chorong\\anaconda3\\lib\\site-packages (from imbalanced-learn->imblearn) (0.14.0)\n",
      "Requirement already satisfied, skipping upgrade: numpy>=1.11 in c:\\users\\chorong\\anaconda3\\lib\\site-packages (from imbalanced-learn->imblearn) (1.15.4)\n",
      "Requirement already satisfied, skipping upgrade: scikit-learn>=0.21 in c:\\users\\chorong\\anaconda3\\lib\\site-packages (from imbalanced-learn->imblearn) (0.21.3)\n",
      "Requirement already satisfied, skipping upgrade: scipy>=0.17 in c:\\users\\chorong\\anaconda3\\lib\\site-packages (from imbalanced-learn->imblearn) (1.1.0)\n"
     ]
    },
    {
     "name": "stderr",
     "output_type": "stream",
     "text": [
      "C:\\Users\\ChoRong\\Anaconda3\\lib\\site-packages\\ipykernel_launcher.py:32: FutureWarning: Method .as_matrix will be removed in a future version. Use .values instead.\n"
     ]
    },
    {
     "name": "stdout",
     "output_type": "stream",
     "text": [
      "Model : Logistic Regression\n",
      "C value : 10\n",
      "Score : 0.25625\n"
     ]
    },
    {
     "data": {
      "image/png": "[encoded data removed]",
      "text/plain": [
       "<Figure size 432x288 with 1 Axes>"
      ]
     },
     "metadata": {
      "needs_background": "light"
     },
     "output_type": "display_data"
    }
   ],
   "source": [
    "# 1. Data 셋 불러오기 -> Class 가 9인 경우 예외처리\n",
    "# 2. Data 에서 Class 는 Label 로 Feature1 과 Feature2는 테스트 데이터로 만든다. [[[Feature1], [Feature2]],[[...]]]\n",
    "# 3. Leave One Out 기법을 사용하여 Cross Vaildation 한다.\n",
    "\n",
    "# - 사용할 기법 -\n",
    "# 1. Decision Tree\n",
    "# 2. KNN Algorithm\n",
    "# 3. SVM ( RBF Kernel, Polynomial Kernel )\n",
    "# 4. Random Forest\n",
    "# 5. Ada boost\n",
    "\n",
    "import pandas as pd\n",
    "import numpy as np\n",
    "from sklearn.linear_model import LogisticRegression\n",
    "from sklearn.model_selection import LeaveOneOut\n",
    "import matplotlib.pyplot as plt\n",
    "\n",
    "!pip install -U imblearn\n",
    "from sklearn.decomposition import PCA\n",
    "from imblearn.over_sampling import *\n",
    "\n",
    "#__Data_PrePorcessing__#\n",
    "# Class 가 9인 것들은 예외처리 하였다.\n",
    "# Training Data = Feature들의 모임\n",
    "# Label = Class\n",
    "\n",
    "data = pd.read_excel('../HW1.xlsx')\n",
    "\n",
    "data = data[data.Class != 9] \n",
    "data = data.reset_index(drop=True)\n",
    "\n",
    "X = (data.loc[0:len(data),['Feature 1','Feature 2']]).as_matrix()\n",
    "y = data.Class \n",
    "\n",
    "# 데이터 불균형을 잡아줄 Random Over Sampler #\n",
    "X, y = RandomOverSampler(random_state=0).fit_sample(X, y)\n",
    "\n",
    "#__Build_TrainingData_&_Lavels__#\n",
    "# Leave One Out 기법을 사용하여 검증 데이터를 만든다. #\n",
    "\n",
    "loo = LeaveOneOut()\n",
    "loo.get_n_splits(X)\n",
    "\n",
    "score_sum = 0\n",
    "\n",
    "# 최적의 DecisionTree Depth를 찾기위한 For문과 최고점수와 그때의 Alpha값 #\n",
    "highest_score = 0\n",
    "highest_alpha = 0\n",
    "\n",
    "for alpha in [0.0001, 0.01, 0.1, 1, 5, 10, 25, 50]:\n",
    "    for train_index, test_index in loo.split(X):\n",
    "        X_train, X_test = X[train_index], X[test_index]\n",
    "        y_train, y_test = y[train_index], y[test_index]\n",
    "        \n",
    "        #========[ Learning ]=========================#\n",
    "        features = X_train \n",
    "        labels = y_train \n",
    "\n",
    "        #========[ Model Module ]=====================#\n",
    "        lr = LogisticRegression(C = alpha, solver='lbfgs', multi_class='multinomial', max_iter = 10000) \n",
    "        lr.fit(features, labels) \n",
    "        #=======[ Score Aggregation ]=================#\n",
    "        score_sum += lr.score(X_test, y_test)\n",
    "    \n",
    "    #======[ Score Check ]===========================#\n",
    "    mean = score_sum / len(X)\n",
    "    if(highest_score < mean):\n",
    "        highest_score = mean\n",
    "        highest_alpha = alpha\n",
    "    score_sum = 0\n",
    "    plt.scatter(alpha, mean, marker = 'o', c = 'blue')\n",
    "    \n",
    "#__Print__Score__#\n",
    "print(\"Model : Logistic Regression\")\n",
    "print(\"C value : {0}\".format(highest_alpha))\n",
    "print(\"Score : {0:.6}\".format(highest_score))\n",
    "plt.xlabel('C value', fontsize = 14)\n",
    "plt.ylabel('Score', fontsize = 14)\n",
    "plt.show()"
   ]
  },
  {
   "cell_type": "markdown",
   "metadata": {},
   "source": [
    "# # Random Forest"
   ]
  },
  {
   "cell_type": "code",
   "execution_count": 3,
   "metadata": {
    "scrolled": false
   },
   "outputs": [
    {
     "name": "stdout",
     "output_type": "stream",
     "text": [
      "Requirement already up-to-date: imblearn in c:\\users\\chorong\\appdata\\roaming\\python\\python37\\site-packages (0.0)\n",
      "Requirement already satisfied, skipping upgrade: imbalanced-learn in c:\\users\\chorong\\appdata\\roaming\\python\\python37\\site-packages (from imblearn) (0.5.0)\n",
      "Requirement already satisfied, skipping upgrade: numpy>=1.11 in c:\\users\\chorong\\anaconda3\\lib\\site-packages (from imbalanced-learn->imblearn) (1.15.4)\n",
      "Requirement already satisfied, skipping upgrade: joblib>=0.11 in c:\\users\\chorong\\anaconda3\\lib\\site-packages (from imbalanced-learn->imblearn) (0.14.0)\n",
      "Requirement already satisfied, skipping upgrade: scikit-learn>=0.21 in c:\\users\\chorong\\anaconda3\\lib\\site-packages (from imbalanced-learn->imblearn) (0.21.3)\n",
      "Requirement already satisfied, skipping upgrade: scipy>=0.17 in c:\\users\\chorong\\anaconda3\\lib\\site-packages (from imbalanced-learn->imblearn) (1.1.0)\n"
     ]
    },
    {
     "name": "stderr",
     "output_type": "stream",
     "text": [
      "C:\\Users\\ChoRong\\Anaconda3\\lib\\site-packages\\ipykernel_launcher.py:27: FutureWarning: Method .as_matrix will be removed in a future version. Use .values instead.\n"
     ]
    },
    {
     "name": "stdout",
     "output_type": "stream",
     "text": [
      "1\n",
      "6\n",
      "11\n",
      "16\n",
      "21\n",
      "26\n",
      "31\n",
      "36\n",
      "41\n",
      "46\n",
      "51\n",
      "56\n",
      "61\n",
      "66\n",
      "71\n",
      "76\n",
      "81\n",
      "86\n",
      "91\n",
      "96\n",
      "101\n",
      "106\n",
      "111\n",
      "116\n",
      "121\n",
      "126\n",
      "131\n",
      "136\n",
      "141\n",
      "146\n",
      "Model : Random Forest\n",
      "Trees : 6\n",
      "Score : 0.775\n"
     ]
    },
    {
     "data": {
      "image/png": "[encoded data removed]",
      "text/plain": [
       "<Figure size 432x288 with 1 Axes>"
      ]
     },
     "metadata": {
      "needs_background": "light"
     },
     "output_type": "display_data"
    }
   ],
   "source": [
    "# 1. Data 셋 불러오기 -> Class 가 9인 경우 예외처리\n",
    "# 2. Data 에서 Class 는 Label 로 Feature1 과 Feature2는 테스트 데이터로 만든다. [[[Feature1], [Feature2]],[[...]]]\n",
    "# 3. Leave One Out 기법을 사용하여 Cross Vaildation 한다.\n",
    "\n",
    "import pandas as pd\n",
    "import numpy as np\n",
    "from sklearn.ensemble import RandomForestClassifier\n",
    "from sklearn.model_selection import LeaveOneOut\n",
    "import matplotlib.pyplot as plt\n",
    "from sklearn.metrics import accuracy_score\n",
    "\n",
    "\n",
    "!pip install -U imblearn\n",
    "from sklearn.decomposition import PCA\n",
    "from imblearn.over_sampling import *\n",
    "\n",
    "#__Data_PrePorcessing__#\n",
    "# Class 가 9인 것들은 예외처리 하였다.\n",
    "# Training Data = Feature들의 모임\n",
    "# Label = Class\n",
    "\n",
    "data = pd.read_excel('../HW1.xlsx')\n",
    "\n",
    "data = data[data.Class != 9] \n",
    "data = data.reset_index(drop=True)\n",
    "\n",
    "X = (data.loc[0:len(data),['Feature 1','Feature 2']]).as_matrix()\n",
    "y = data.Class \n",
    "\n",
    "# 데이터 불균형을 잡아줄 Random Over Sampler #\n",
    "X, y = RandomOverSampler(random_state=0).fit_sample(X, y)\n",
    "\n",
    "#__Build_TrainingData_&_Lavels__#\n",
    "# Leave One Out 기법을 사용하여 검증 데이터를 만든다. #\n",
    "\n",
    "loo = LeaveOneOut()\n",
    "loo.get_n_splits(X)\n",
    "\n",
    "\n",
    "# 최적의 DecisionTree Depth를 찾기위한 For문과 최고점수와 그때의 Alpha값 #\n",
    "highest_score = 0\n",
    "highest_alpha = 0\n",
    "\n",
    "score_sum = 0\n",
    "\n",
    "\n",
    "for alpha in range(1,150,5):\n",
    "    for train_index, test_index in loo.split(X):\n",
    "        X_train, X_test = X[train_index], X[test_index]\n",
    "        y_train, y_test = y[train_index], y[test_index]\n",
    "        \n",
    "        #========[ Learning ]=========================#\n",
    "        features = X_train \n",
    "        labels = y_train \n",
    "\n",
    "        #========[ Model Module ]=====================#\n",
    "        forest = RandomForestClassifier(n_estimators=alpha) # How many Trees are in Forest\n",
    "        forest = forest.fit(features, labels)\n",
    "        #=======[ Score Aggregation ]=================#\n",
    "        score_sum += forest.score(X_test, y_test)\n",
    "    \n",
    "    #======[ Score Check ]===========================#\n",
    "    mean = score_sum / len(X)\n",
    "    if(highest_score < mean):\n",
    "        highest_score = mean\n",
    "        highest_alpha = alpha\n",
    "    score_sum = 0\n",
    "    plt.scatter(alpha, mean, marker = 'o', c = 'red')\n",
    "    print(alpha)\n",
    "    \n",
    "#__Print__Score__#\n",
    "print(\"Model : Random Forest\")\n",
    "print(\"Trees : {0}\".format(highest_alpha))\n",
    "print(\"Score : {0:.6}\".format(highest_score))\n",
    "plt.xlabel('n_estimators', fontsize = 14)\n",
    "plt.ylabel('Score', fontsize = 14)\n",
    "plt.show()"
   ]
  },
  {
   "cell_type": "markdown",
   "metadata": {},
   "source": [
    "# # Nureal Network"
   ]
  },
  {
   "cell_type": "code",
   "execution_count": 4,
   "metadata": {},
   "outputs": [
    {
     "name": "stdout",
     "output_type": "stream",
     "text": [
      "Requirement already up-to-date: imblearn in c:\\users\\chorong\\appdata\\roaming\\python\\python37\\site-packages (0.0)\n",
      "Requirement already satisfied, skipping upgrade: imbalanced-learn in c:\\users\\chorong\\appdata\\roaming\\python\\python37\\site-packages (from imblearn) (0.5.0)\n",
      "Requirement already satisfied, skipping upgrade: scikit-learn>=0.21 in c:\\users\\chorong\\anaconda3\\lib\\site-packages (from imbalanced-learn->imblearn) (0.21.3)\n",
      "Requirement already satisfied, skipping upgrade: joblib>=0.11 in c:\\users\\chorong\\anaconda3\\lib\\site-packages (from imbalanced-learn->imblearn) (0.14.0)\n",
      "Requirement already satisfied, skipping upgrade: scipy>=0.17 in c:\\users\\chorong\\anaconda3\\lib\\site-packages (from imbalanced-learn->imblearn) (1.1.0)\n",
      "Requirement already satisfied, skipping upgrade: numpy>=1.11 in c:\\users\\chorong\\anaconda3\\lib\\site-packages (from imbalanced-learn->imblearn) (1.15.4)\n"
     ]
    },
    {
     "name": "stderr",
     "output_type": "stream",
     "text": [
      "C:\\Users\\ChoRong\\Anaconda3\\lib\\site-packages\\ipykernel_launcher.py:26: FutureWarning: Method .as_matrix will be removed in a future version. Use .values instead.\n"
     ]
    },
    {
     "name": "stdout",
     "output_type": "stream",
     "text": [
      "Model : Nureal Network\n",
      "alpha : 1\n",
      "Layer : (4, 4)\n",
      "Score : 0.3\n"
     ]
    },
    {
     "data": {
      "image/png": "[encoded data removed]",
      "text/plain": [
       "<Figure size 432x288 with 1 Axes>"
      ]
     },
     "metadata": {
      "needs_background": "light"
     },
     "output_type": "display_data"
    }
   ],
   "source": [
    "# 1. Data 셋 불러오기 -> Class 가 9인 경우 예외처리\n",
    "# 2. Data 에서 Class 는 Label 로 Feature1 과 Feature2는 테스트 데이터로 만든다. [[[Feature1], [Feature2]],[[...]]]\n",
    "# 3. Leave One Out 기법을 사용하여 Cross Vaildation 한다.\n",
    "\n",
    "import pandas as pd\n",
    "import numpy as np\n",
    "from sklearn.neural_network import MLPClassifier\n",
    "from sklearn.model_selection import LeaveOneOut\n",
    "import matplotlib.pyplot as plt\n",
    "from sklearn.metrics import accuracy_score\n",
    "\n",
    "!pip install -U imblearn\n",
    "from sklearn.decomposition import PCA\n",
    "from imblearn.over_sampling import *\n",
    "\n",
    "#__Data_PrePorcessing__#\n",
    "# Class 가 9인 것들은 예외처리 하였다.\n",
    "# Training Data = Feature들의 모임\n",
    "# Label = Class\n",
    "\n",
    "data = pd.read_excel('../HW1.xlsx')\n",
    "\n",
    "data = data[data.Class != 9] \n",
    "data = data.reset_index(drop=True)\n",
    "\n",
    "X = (data.loc[0:len(data),['Feature 1','Feature 2']]).as_matrix()\n",
    "y = data.Class \n",
    "\n",
    "# 데이터 불균형을 잡아줄 Random Over Sampler #\n",
    "X, y = RandomOverSampler(random_state=0).fit_sample(X, y)\n",
    "\n",
    "#__Build_TrainingData_&_Lavels__#\n",
    "# Leave One Out 기법을 사용하여 검증 데이터를 만든다. #\n",
    "\n",
    "loo = LeaveOneOut()\n",
    "loo.get_n_splits(X)\n",
    "\n",
    "\n",
    "# 최적의 DecisionTree Depth를 찾기위한 For문과 최고점수와 그때의 Alpha값 #\n",
    "highest_score = 0\n",
    "highest_alpha = 0\n",
    "\n",
    "score_sum = 0\n",
    "\n",
    "for alpha in [1e-14, 1e-12, 1e-10, 1e-8, 1e-6,0.0001, 0.01, 0.1, 1]:\n",
    "    for layer_size in [(3,5),(4,4),(5,3)]:\n",
    "        for train_index, test_index in loo.split(X):\n",
    "            X_train, X_test = X[train_index], X[test_index]\n",
    "            y_train, y_test = y[train_index], y[test_index]\n",
    "\n",
    "            #========[ Learning ]=========================#\n",
    "            features = X_train \n",
    "            labels = y_train \n",
    "\n",
    "            #========[ Model Module ]=====================#\n",
    "            clf = MLPClassifier(solver='lbfgs', alpha= alpha ,hidden_layer_sizes=layer_size)\n",
    "            clf = clf.fit(features, labels)\n",
    "            #=======[ Score Aggregation ]=================#\n",
    "            score_sum += clf.score(X_test, y_test)\n",
    "\n",
    "        #======[ Score Check ]===========================#\n",
    "        mean = score_sum / len(X)\n",
    "        if(highest_score < mean):\n",
    "            highest_score = mean\n",
    "            highest_alpha = alpha\n",
    "            highest_layer = layer_size\n",
    "        score_sum = 0\n",
    "        plt.scatter(alpha, mean, marker = 'o', c = 'red')\n",
    "    \n",
    "#__Print__Score__#\n",
    "print(\"Model : Nureal Network\")\n",
    "print(\"alpha : {0}\".format(highest_alpha))\n",
    "print(\"Layer : {0}\".format(highest_layer))\n",
    "print(\"Score : {0:.6}\".format(highest_score))\n",
    "plt.xlabel('alpha', fontsize = 14)\n",
    "plt.ylabel('Score', fontsize = 14)\n",
    "plt.show()"
   ]
  },
  {
   "cell_type": "markdown",
   "metadata": {},
   "source": [
    "# # GaussianNB"
   ]
  },
  {
   "cell_type": "code",
   "execution_count": 17,
   "metadata": {},
   "outputs": [
    {
     "name": "stdout",
     "output_type": "stream",
     "text": [
      "Requirement already up-to-date: imblearn in c:\\users\\chorong\\appdata\\roaming\\python\\python37\\site-packages (0.0)\n",
      "Requirement already satisfied, skipping upgrade: imbalanced-learn in c:\\users\\chorong\\appdata\\roaming\\python\\python37\\site-packages (from imblearn) (0.5.0)\n",
      "Requirement already satisfied, skipping upgrade: scipy>=0.17 in c:\\users\\chorong\\anaconda3\\lib\\site-packages (from imbalanced-learn->imblearn) (1.1.0)\n",
      "Requirement already satisfied, skipping upgrade: joblib>=0.11 in c:\\users\\chorong\\anaconda3\\lib\\site-packages (from imbalanced-learn->imblearn) (0.14.0)\n",
      "Requirement already satisfied, skipping upgrade: scikit-learn>=0.21 in c:\\users\\chorong\\anaconda3\\lib\\site-packages (from imbalanced-learn->imblearn) (0.21.3)\n",
      "Requirement already satisfied, skipping upgrade: numpy>=1.11 in c:\\users\\chorong\\anaconda3\\lib\\site-packages (from imbalanced-learn->imblearn) (1.15.4)\n"
     ]
    },
    {
     "name": "stderr",
     "output_type": "stream",
     "text": [
      "C:\\Users\\ChoRong\\Anaconda3\\lib\\site-packages\\ipykernel_launcher.py:27: FutureWarning: Method .as_matrix will be removed in a future version. Use .values instead.\n"
     ]
    },
    {
     "name": "stdout",
     "output_type": "stream",
     "text": [
      "Model : GaussianNB\n",
      "Score : 0.20625\n"
     ]
    }
   ],
   "source": [
    "# 1. Data 셋 불러오기 -> Class 가 9인 경우 예외처리\n",
    "# 2. Data 에서 Class 는 Label 로 Feature1 과 Feature2는 테스트 데이터로 만든다. [[[Feature1], [Feature2]],[[...]]]\n",
    "# 3. Leave One Out 기법을 사용하여 Cross Vaildation 한다.\n",
    "\n",
    "import pandas as pd\n",
    "import numpy as np\n",
    "from sklearn import tree\n",
    "from sklearn.naive_bayes import GaussianNB\n",
    "import matplotlib.pyplot as plt\n",
    "from sklearn.model_selection import LeaveOneOut\n",
    "\n",
    "\n",
    "!pip install -U imblearn\n",
    "from sklearn.decomposition import PCA\n",
    "from imblearn.over_sampling import *\n",
    "\n",
    "#__Data_PrePorcessing__#\n",
    "# Class 가 9인 것들은 예외처리 하였다.\n",
    "# Training Data = Feature들의 모임\n",
    "# Label = Class\n",
    "\n",
    "data = pd.read_excel('../HW1.xlsx')\n",
    "\n",
    "data = data[data.Class != 9] \n",
    "data = data.reset_index(drop=True)\n",
    "\n",
    "X = (data.loc[0:len(data),['Feature 1','Feature 2']]).as_matrix()\n",
    "y = data.Class \n",
    "\n",
    "# 데이터 불균형을 잡아줄 Random Over Sampler #\n",
    "X, y = RandomOverSampler(random_state=0).fit_sample(X, y)\n",
    "\n",
    "#__Build_TrainingData_&_Lavels__#\n",
    "# Leave One Out 기법을 사용하여 검증 데이터를 만든다. #\n",
    "\n",
    "loo = LeaveOneOut()\n",
    "loo.get_n_splits(X)\n",
    "\n",
    "\n",
    "# 최적의 DecisionTree Depth를 찾기위한 For문과 최고점수와 그때의 Alpha값 #\n",
    "highest_score = 0\n",
    "\n",
    "score_sum = 0\n",
    "\n",
    "\n",
    "for train_index, test_index in loo.split(X):\n",
    "    X_train, X_test = X[train_index], X[test_index]\n",
    "    y_train, y_test = y[train_index], y[test_index]\n",
    "        \n",
    "    #========[ Learning ]=========================#\n",
    "    features = X_train \n",
    "    labels = y_train \n",
    "\n",
    "    #========[ Model Module ]=====================#\n",
    "    clf = GaussianNB()\n",
    "    model_norm = clf.fit(features, labels)\n",
    "    #=======[ Score Aggregation ]=================#\n",
    "    score_sum += model_norm .score(X_test, y_test)\n",
    "    \n",
    "#======[ Score Check ]===========================#\n",
    "mean = score_sum / len(X)\n",
    "if(highest_score < mean):\n",
    "    highest_score = mean\n",
    "score_sum = 0\n",
    "    \n",
    "#__Print__Score__#\n",
    "print(\"Model : GaussianNB\")\n",
    "print(\"Score : {0:.6}\".format(highest_score))"
   ]
  },
  {
   "cell_type": "markdown",
   "metadata": {},
   "source": [
    "# #Ada boost"
   ]
  },
  {
   "cell_type": "code",
   "execution_count": 78,
   "metadata": {},
   "outputs": [
    {
     "name": "stdout",
     "output_type": "stream",
     "text": [
      "Requirement already up-to-date: imblearn in c:\\users\\chorong\\appdata\\roaming\\python\\python37\\site-packages (0.0)\n",
      "Requirement already satisfied, skipping upgrade: imbalanced-learn in c:\\users\\chorong\\appdata\\roaming\\python\\python37\\site-packages (from imblearn) (0.5.0)\n",
      "Requirement already satisfied, skipping upgrade: joblib>=0.11 in c:\\users\\chorong\\anaconda3\\lib\\site-packages (from imbalanced-learn->imblearn) (0.14.0)\n",
      "Requirement already satisfied, skipping upgrade: scikit-learn>=0.21 in c:\\users\\chorong\\anaconda3\\lib\\site-packages (from imbalanced-learn->imblearn) (0.21.3)\n",
      "Requirement already satisfied, skipping upgrade: numpy>=1.11 in c:\\users\\chorong\\anaconda3\\lib\\site-packages (from imbalanced-learn->imblearn) (1.15.4)\n",
      "Requirement already satisfied, skipping upgrade: scipy>=0.17 in c:\\users\\chorong\\anaconda3\\lib\\site-packages (from imbalanced-learn->imblearn) (1.1.0)\n"
     ]
    },
    {
     "name": "stderr",
     "output_type": "stream",
     "text": [
      "C:\\Users\\ChoRong\\Anaconda3\\lib\\site-packages\\ipykernel_launcher.py:27: FutureWarning: Method .as_matrix will be removed in a future version. Use .values instead.\n"
     ]
    },
    {
     "name": "stdout",
     "output_type": "stream",
     "text": [
      "Model : Ada Boost\n",
      "n_estimators : 66\n",
      "Score : 0.56875\n"
     ]
    },
    {
     "data": {
      "image/png": "[encoded data removed]",
      "text/plain": [
       "<Figure size 432x288 with 1 Axes>"
      ]
     },
     "metadata": {
      "needs_background": "light"
     },
     "output_type": "display_data"
    }
   ],
   "source": [
    "# 1. Data 셋 불러오기 -> Class 가 9인 경우 예외처리\n",
    "# 2. Data 에서 Class 는 Label 로 Feature1 과 Feature2는 테스트 데이터로 만든다. [[[Feature1], [Feature2]],[[...]]]\n",
    "# 3. Leave One Out 기법을 사용하여 Cross Vaildation 한다.\n",
    "\n",
    "import pandas as pd\n",
    "import numpy as np\n",
    "from sklearn.ensemble import AdaBoostClassifier\n",
    "from sklearn.model_selection import LeaveOneOut\n",
    "import matplotlib.pyplot as plt\n",
    "from sklearn.metrics import accuracy_score\n",
    "\n",
    "\n",
    "!pip install -U imblearn\n",
    "from sklearn.decomposition import PCA\n",
    "from imblearn.over_sampling import *\n",
    "\n",
    "#__Data_PrePorcessing__#\n",
    "# Class 가 9인 것들은 예외처리 하였다.\n",
    "# Training Data = Feature들의 모임\n",
    "# Label = Class\n",
    "\n",
    "data = pd.read_excel('../HW1.xlsx')\n",
    "\n",
    "data = data[data.Class != 9] \n",
    "data = data.reset_index(drop=True)\n",
    "\n",
    "X = (data.loc[0:len(data),['Feature 1','Feature 2']]).as_matrix()\n",
    "y = data.Class \n",
    "\n",
    "# 데이터 불균형을 잡아줄 Random Over Sampler #\n",
    "X, y = RandomOverSampler(random_state=0).fit_sample(X, y)\n",
    "\n",
    "\n",
    "#__Build_TrainingData_&_Lavels__#\n",
    "# Leave One Out 기법을 사용하여 검증 데이터를 만든다. #\n",
    "\n",
    "loo = LeaveOneOut()\n",
    "loo.get_n_splits(X)\n",
    "\n",
    "\n",
    "# 최적의 DecisionTree Depth를 찾기위한 For문과 최고점수와 그때의 Alpha값 #\n",
    "highest_score = 0\n",
    "highest_alpha = 0\n",
    "\n",
    "score_sum = 0\n",
    "\n",
    "\n",
    "for alpha in range(1,150,5):\n",
    "    for train_index, test_index in loo.split(X):\n",
    "        X_train, X_test = X[train_index], X[test_index]\n",
    "        y_train, y_test = y[train_index], y[test_index]\n",
    "        \n",
    "        #========[ Learning ]=========================#\n",
    "        features = X_train \n",
    "        labels = y_train \n",
    "\n",
    "        #========[ Model Module ]=====================#\n",
    "        forest = AdaBoostClassifier(n_estimators=alpha, random_state=0)\n",
    "        forest = forest.fit(features, labels)\n",
    "        #=======[ Score Aggregation ]=================#\n",
    "        score_sum += forest.score(X_test, y_test)\n",
    "    \n",
    "    #======[ Score Check ]===========================#\n",
    "    mean = score_sum / len(X)\n",
    "    if(highest_score < mean):\n",
    "        highest_score = mean\n",
    "        highest_alpha = alpha\n",
    "    score_sum = 0\n",
    "    plt.scatter(alpha, mean, marker = 'o', c = 'red')\n",
    "    \n",
    "#__Print__Score__#\n",
    "print(\"Model : Ada Boost\")\n",
    "print(\"n_estimators : {0}\".format(highest_alpha))\n",
    "print(\"Score : {0:.6}\".format(highest_score))\n",
    "plt.xlabel('n_estimators', fontsize = 14)\n",
    "plt.ylabel('Score', fontsize = 14)\n",
    "plt.show()"
   ]
  },
  {
   "cell_type": "markdown",
   "metadata": {},
   "source": [
    "# # Result Graph"
   ]
  },
  {
   "cell_type": "code",
   "execution_count": 19,
   "metadata": {},
   "outputs": [
    {
     "data": {
      "image/png": "[encoded data removed]",
      "text/plain": [
       "<Figure size 432x288 with 1 Axes>"
      ]
     },
     "metadata": {
      "needs_background": "light"
     },
     "output_type": "display_data"
    }
   ],
   "source": [
    "import matplotlib.pyplot as plt\n",
    "X = ['D.T.', 'KNN','RBF', 'Sig', 'L.R.', 'R.F.', 'NN', 'NB', 'Ada']\n",
    "Y = [0.775, 0.725, 0.84375, 0.25625, 0.25625, 0.7875,0.26875, 0.20625, 0.56875]\n",
    "plt.scatter(X, Y, c = 'blue')\n",
    "plt.plot(X, Y,c = 'skyblue')\n",
    "plt.show()"
   ]
  }
 ],
 "metadata": {
  "kernelspec": {
   "display_name": "Python 3",
   "language": "python",
   "name": "python3"
  },
  "language_info": {
   "codemirror_mode": {
    "name": "ipython",
    "version": 3
   },
   "file_extension": ".py",
   "mimetype": "text/x-python",
   "name": "python",
   "nbconvert_exporter": "python",
   "pygments_lexer": "ipython3",
   "version": "3.7.1"
  }
 },
 "nbformat": 4,
 "nbformat_minor": 2
}
